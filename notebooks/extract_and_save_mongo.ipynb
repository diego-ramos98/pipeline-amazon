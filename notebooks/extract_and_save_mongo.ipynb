{
 "cells": [
  {
   "cell_type": "markdown",
   "metadata": {},
   "source": [
    "***CONECTANDO AO MONGO DB***"
   ]
  },
  {
   "cell_type": "code",
   "execution_count": 2,
   "metadata": {},
   "outputs": [],
   "source": [
    "from pymongo.mongo_client import MongoClient"
   ]
  },
  {
   "cell_type": "code",
   "execution_count": 3,
   "metadata": {},
   "outputs": [
    {
     "name": "stdout",
     "output_type": "stream",
     "text": [
      "conectou!!\n"
     ]
    }
   ],
   "source": [
    "client = MongoClient()\n",
    "\n",
    "try:\n",
    "    client.admin.command('ping')\n",
    "    print('conectou!!')\n",
    "except Exception as e:\n",
    "    print(e)"
   ]
  },
  {
   "cell_type": "markdown",
   "metadata": {},
   "source": [
    "***CRIANDO BANCO E COLEÇÃO***"
   ]
  },
  {
   "cell_type": "code",
   "execution_count": 4,
   "metadata": {},
   "outputs": [],
   "source": [
    "db = client[\"db_produtos_amazon\"]"
   ]
  },
  {
   "cell_type": "code",
   "execution_count": 5,
   "metadata": {},
   "outputs": [],
   "source": [
    "collection = db[\"produtos_amazon\"]"
   ]
  },
  {
   "cell_type": "code",
   "execution_count": 6,
   "metadata": {},
   "outputs": [
    {
     "data": {
      "text/plain": [
       "InsertOneResult(ObjectId('67f5de67e969d7f66c738d12'), acknowledged=True)"
      ]
     },
     "execution_count": 6,
     "metadata": {},
     "output_type": "execute_result"
    }
   ],
   "source": [
    "teste = {\n",
    "    \"teste\" : 1\n",
    "}\n",
    "\n",
    "collection.insert_one(teste)"
   ]
  },
  {
   "cell_type": "code",
   "execution_count": 7,
   "metadata": {},
   "outputs": [
    {
     "data": {
      "text/plain": [
       "['admin',\n",
       " 'config',\n",
       " 'db_avaliacao_credito',\n",
       " 'db_cotacoes',\n",
       " 'db_dados_eleitorais',\n",
       " 'db_eleicao_pe',\n",
       " 'db_pipeline_abandono_escolar',\n",
       " 'db_produtos',\n",
       " 'db_produtos_amazon',\n",
       " 'db_reclamacoes',\n",
       " 'local']"
      ]
     },
     "execution_count": 7,
     "metadata": {},
     "output_type": "execute_result"
    }
   ],
   "source": [
    "client.list_database_names()"
   ]
  },
  {
   "cell_type": "markdown",
   "metadata": {},
   "source": [
    "***COMEÇANDO A USAR O SPARK***"
   ]
  },
  {
   "cell_type": "code",
   "execution_count": 8,
   "metadata": {},
   "outputs": [],
   "source": [
    "import os\n",
    "from pyspark.sql import SparkSession"
   ]
  },
  {
   "cell_type": "code",
   "execution_count": 9,
   "metadata": {},
   "outputs": [],
   "source": [
    "os.environ[\"SPARK_HOME\"] = \"/opt/spark/spark-3.5.5-bin-hadoop3\""
   ]
  },
  {
   "cell_type": "code",
   "execution_count": 10,
   "metadata": {},
   "outputs": [],
   "source": [
    "import findspark"
   ]
  },
  {
   "cell_type": "code",
   "execution_count": 11,
   "metadata": {},
   "outputs": [],
   "source": [
    "findspark.init()"
   ]
  },
  {
   "cell_type": "code",
   "execution_count": 12,
   "metadata": {},
   "outputs": [
    {
     "name": "stderr",
     "output_type": "stream",
     "text": [
      "25/04/08 23:42:11 WARN Utils: Your hostname, dg-IdeaPad-3-15ALC6 resolves to a loopback address: 127.0.1.1; using 192.168.0.19 instead (on interface wlp1s0)\n",
      "25/04/08 23:42:12 WARN Utils: Set SPARK_LOCAL_IP if you need to bind to another address\n",
      "Setting default log level to \"WARN\".\n",
      "To adjust logging level use sc.setLogLevel(newLevel). For SparkR, use setLogLevel(newLevel).\n",
      "25/04/08 23:42:20 WARN NativeCodeLoader: Unable to load native-hadoop library for your platform... using builtin-java classes where applicable\n"
     ]
    }
   ],
   "source": [
    "spark = SparkSession.builder.master('local[*]').getOrCreate()"
   ]
  },
  {
   "cell_type": "code",
   "execution_count": 13,
   "metadata": {},
   "outputs": [
    {
     "data": {
      "text/html": [
       "\n",
       "            <div>\n",
       "                <p><b>SparkSession - in-memory</b></p>\n",
       "                \n",
       "        <div>\n",
       "            <p><b>SparkContext</b></p>\n",
       "\n",
       "            <p><a href=\"http://192.168.0.19:4040\">Spark UI</a></p>\n",
       "\n",
       "            <dl>\n",
       "              <dt>Version</dt>\n",
       "                <dd><code>v3.5.5</code></dd>\n",
       "              <dt>Master</dt>\n",
       "                <dd><code>local[*]</code></dd>\n",
       "              <dt>AppName</dt>\n",
       "                <dd><code>pyspark-shell</code></dd>\n",
       "            </dl>\n",
       "        </div>\n",
       "        \n",
       "            </div>\n",
       "        "
      ],
      "text/plain": [
       "<pyspark.sql.session.SparkSession at 0x73f18b2e45c0>"
      ]
     },
     "execution_count": 13,
     "metadata": {},
     "output_type": "execute_result"
    }
   ],
   "source": [
    "spark"
   ]
  },
  {
   "cell_type": "markdown",
   "metadata": {},
   "source": [
    "***lENDO OS DADOS***"
   ]
  },
  {
   "cell_type": "code",
   "execution_count": 14,
   "metadata": {},
   "outputs": [],
   "source": [
    "path_csv = \"../data_raw/amz_br_total_products_data_processed.csv\""
   ]
  },
  {
   "cell_type": "code",
   "execution_count": 88,
   "metadata": {},
   "outputs": [
    {
     "name": "stderr",
     "output_type": "stream",
     "text": [
      "                                                                                \r"
     ]
    }
   ],
   "source": [
    "data_product_amazon = spark.read.csv(\n",
    "    path_csv,\n",
    "    sep=',',\n",
    "    header=True,\n",
    "    inferSchema=True,\n",
    "    quote='\"',\n",
    "    escape='\"',\n",
    "    \n",
    ")\n"
   ]
  },
  {
   "cell_type": "code",
   "execution_count": 89,
   "metadata": {},
   "outputs": [
    {
     "data": {
      "text/plain": [
       "1344513"
      ]
     },
     "execution_count": 89,
     "metadata": {},
     "output_type": "execute_result"
    }
   ],
   "source": [
    "data_product_amazon.count()"
   ]
  },
  {
   "cell_type": "code",
   "execution_count": 90,
   "metadata": {},
   "outputs": [
    {
     "name": "stdout",
     "output_type": "stream",
     "text": [
      "+----------+-----------------------------------------------------------------------------------------------------------------------------------------------------------------------------------------------------+--------------------------------------------------------------+---------------------------------------+-----+-------+-------+---------+--------------------------+------------+-----------------+\n",
      "|asin      |title                                                                                                                                                                                                |imgUrl                                                        |productURL                             |stars|reviews|price  |listPrice|categoryName              |isBestSeller|boughtInLastMonth|\n",
      "+----------+-----------------------------------------------------------------------------------------------------------------------------------------------------------------------------------------------------+--------------------------------------------------------------+---------------------------------------+-----+-------+-------+---------+--------------------------+------------+-----------------+\n",
      "|B0C154VR2L|SAMSUNG Smart TV Crystal 50\" 4K UHD CU7700 - Alexa built in, Samsung Gaming Hub                                                                                                                      |https://m.media-amazon.com/images/I/71vk2qFDSPL._AC_UL320_.jpg|https://www.amazon.com.br/dp/B0C154VR2L|4.6  |269    |2279.05|0.0      |TV, Áudio e Cinema em Casa|false       |0                |\n",
      "|B0C85J5HYD|Mini Projetor Portatil 5G Wifi 6 Bluetooth 5.0 Android 11, Projetor 4K 1080P Full HD Suporte 8000 Lumens, Projetor Led Auto de Correcção Trapezóide Horizontal, 180°Girável Projector para Telefónico|https://m.media-amazon.com/images/I/5133wKaOqSL._AC_UL320_.jpg|https://www.amazon.com.br/dp/B0C85J5HYD|4.5  |816    |409.99 |0.0      |TV, Áudio e Cinema em Casa|true        |5000             |\n",
      "|B0C1538ZJ4|Samsung Smart TV Crystal 43\" 4K UHD CU7700 - Alexa built in, Samsung Gaming Hub                                                                                                                      |https://m.media-amazon.com/images/I/71vk2qFDSPL._AC_UL320_.jpg|https://www.amazon.com.br/dp/B0C1538ZJ4|4.7  |638    |1969.0 |2499.0   |TV, Áudio e Cinema em Casa|false       |0                |\n",
      "|B0B4V379PC|Samsung 60BU8000 - Smart TV LED 60' 4K UHD, Wifi, HDMI, USB                                                                                                                                          |https://m.media-amazon.com/images/I/8110fzpU-PL._AC_UL320_.jpg|https://www.amazon.com.br/dp/B0B4V379PC|4.6  |675    |3099.0 |0.0      |TV, Áudio e Cinema em Casa|false       |0                |\n",
      "|B0899BRB4B|Smart TV LED 32'' HD Samsung LH32BETBLGGXZD                                                                                                                                                          |https://m.media-amazon.com/images/I/61M025WzQdL._AC_UL320_.jpg|https://www.amazon.com.br/dp/B0899BRB4B|4.7  |3945   |1079.9 |1369.0   |TV, Áudio e Cinema em Casa|true        |0                |\n",
      "+----------+-----------------------------------------------------------------------------------------------------------------------------------------------------------------------------------------------------+--------------------------------------------------------------+---------------------------------------+-----+-------+-------+---------+--------------------------+------------+-----------------+\n",
      "\n"
     ]
    }
   ],
   "source": [
    "data_product_amazon.limit(5).show(truncate=False)"
   ]
  },
  {
   "cell_type": "code",
   "execution_count": 91,
   "metadata": {},
   "outputs": [
    {
     "data": {
      "text/plain": [
       "['asin',\n",
       " 'title',\n",
       " 'imgUrl',\n",
       " 'productURL',\n",
       " 'stars',\n",
       " 'reviews',\n",
       " 'price',\n",
       " 'listPrice',\n",
       " 'categoryName',\n",
       " 'isBestSeller',\n",
       " 'boughtInLastMonth']"
      ]
     },
     "execution_count": 91,
     "metadata": {},
     "output_type": "execute_result"
    }
   ],
   "source": [
    "data_product_amazon.columns"
   ]
  },
  {
   "cell_type": "code",
   "execution_count": 92,
   "metadata": {},
   "outputs": [],
   "source": [
    "data_product_amazon.createOrReplaceTempView(\"produtos_view\")"
   ]
  },
  {
   "cell_type": "code",
   "execution_count": 111,
   "metadata": {},
   "outputs": [],
   "source": [
    "data_product_amazon = spark.sql(\"SELECT title,stars,reviews,price,listPrice,categoryName FROM produtos_view\")"
   ]
  },
  {
   "cell_type": "code",
   "execution_count": 112,
   "metadata": {},
   "outputs": [
    {
     "name": "stderr",
     "output_type": "stream",
     "text": [
      "[Stage 136:===>                                                   (1 + 15) / 16]\r"
     ]
    },
    {
     "name": "stdout",
     "output_type": "stream",
     "text": [
      "+---------------------------------------------------------------------------------------------------------------------------------------------------------------------------------------------------------------------------------------------------------------------------------------+\n",
      "|title                                                                                                                                                                                                                                                                                  |\n",
      "+---------------------------------------------------------------------------------------------------------------------------------------------------------------------------------------------------------------------------------------------------------------------------------------+\n",
      "|Ração Úmida Para Gatos Whiskas Sachê Frango ao Molho Adultos 85g                                                                                                                                                                                                                       |\n",
      "|Pa Higienica Gato Furacão Pet, Rosa Furacão Pet para Gatos                                                                                                                                                                                                                             |\n",
      "|Escova Plastica com Alca Regulável Mr Pet para Cães                                                                                                                                                                                                                                    |\n",
      "|Ração Royal Canin Premium Cat para Gatos Adultos Castrados 10,1kg Royal Canin Raça Adulto                                                                                                                                                                                              |\n",
      "|Combo 03un Ograx Derme 10 - Avert 30 Capsulas                                                                                                                                                                                                                                          |\n",
      "|Dura Pet Bandeja Higiênica Furbox DuraCat - Rosa                                                                                                                                                                                                                                       |\n",
      "|Ração Special Dog Prime Raças Grandes Adultos 15Kg                                                                                                                                                                                                                                     |\n",
      "|RAÇÃO CÃES NATURALIS LIFEBITES ADULTO RAÇAS PEQUENAS PEIXE 7,5KG                                                                                                                                                                                                                       |\n",
      "|Hohopeti Colher De Areia Para Gatos De Aço Inoxidável Caixa De Areia Para Gatos Colher De Cocô Caixa De Areia Antiaderente De Metal Para Caixa De Areia Colheres De Areia Para Gatos Filtro                                                                                            |\n",
      "|COMEDOURO PLAST. GATO SUPER CAT - 200 ML (VERMELHO)                                                                                                                                                                                                                                    |\n",
      "|Rongbuk Brinquedos de quebra-cabeça para cães, brinquedo interativo para cães, dispensador de petiscos para treinamento de cães, alimentação divertida, brinquedos antiderrapantes para enriquecimento de cães, alimentador lento e caixa de brinquedos de treinamento interativo de QI|\n",
      "|Ração para Gatoss Adultos Gran Plus Carne e Arroz 10,1Kg                                                                                                                                                                                                                               |\n",
      "|ALANTOL BISNAGA 250G                                                                                                                                                                                                                                                                   |\n",
      "|Arranhador De Gatos Cat Anti Estresse Em Rampa                                                                                                                                                                                                                                         |\n",
      "|Pá Dosadora de Ração com Clipe para Pet - Oikos Animal                                                                                                                                                                                                                                 |\n",
      "|New Furmin. Caes Pelo Longo Md Furminator para Cães                                                                                                                                                                                                                                    |\n",
      "|Tigela comedouro e bebedouro inox com inclinação para gatos (Preto)                                                                                                                                                                                                                    |\n",
      "|Mordedor Pet Games Tridimensional Tamanho G, Azul                                                                                                                                                                                                                                      |\n",
      "|Ração Fórmula Natural FreshMeat para Cães Filhotes de Médio Porte Sabor Frango 2,5kg                                                                                                                                                                                                   |\n",
      "|Outward Hound Cubo de quebra-cabeça interativo brinquedo para cães                                                                                                                                                                                                                     |\n",
      "+---------------------------------------------------------------------------------------------------------------------------------------------------------------------------------------------------------------------------------------------------------------------------------------+\n",
      "only showing top 20 rows\n",
      "\n"
     ]
    },
    {
     "name": "stderr",
     "output_type": "stream",
     "text": [
      "                                                                                \r"
     ]
    }
   ],
   "source": [
    "spark.sql(\"SELECT DISTINCT title FROM  produtos_view\").show(truncate=False)"
   ]
  },
  {
   "cell_type": "code",
   "execution_count": 113,
   "metadata": {},
   "outputs": [
    {
     "name": "stderr",
     "output_type": "stream",
     "text": [
      "[Stage 139:======>                                                (2 + 14) / 16]\r"
     ]
    },
    {
     "name": "stdout",
     "output_type": "stream",
     "text": [
      "+-----+\n",
      "|stars|\n",
      "+-----+\n",
      "|  0.0|\n",
      "|  1.0|\n",
      "|  1.1|\n",
      "|  1.2|\n",
      "|  1.3|\n",
      "|  1.4|\n",
      "|  1.5|\n",
      "|  1.6|\n",
      "|  1.7|\n",
      "|  1.8|\n",
      "|  1.9|\n",
      "|  2.0|\n",
      "|  2.1|\n",
      "|  2.2|\n",
      "|  2.3|\n",
      "|  2.4|\n",
      "|  2.5|\n",
      "|  2.6|\n",
      "|  2.7|\n",
      "|  2.8|\n",
      "+-----+\n",
      "only showing top 20 rows\n",
      "\n"
     ]
    },
    {
     "name": "stderr",
     "output_type": "stream",
     "text": [
      "                                                                                \r"
     ]
    }
   ],
   "source": [
    "spark.sql(\"SELECT DISTINCT stars FROM  produtos_view  order by stars\").show()"
   ]
  },
  {
   "cell_type": "code",
   "execution_count": 114,
   "metadata": {},
   "outputs": [
    {
     "name": "stdout",
     "output_type": "stream",
     "text": [
      "root\n",
      " |-- title: string (nullable = true)\n",
      " |-- stars: double (nullable = true)\n",
      " |-- reviews: integer (nullable = true)\n",
      " |-- price: double (nullable = true)\n",
      " |-- listPrice: double (nullable = true)\n",
      " |-- categoryName: string (nullable = true)\n",
      "\n"
     ]
    }
   ],
   "source": [
    "data_product_amazon.printSchema()"
   ]
  },
  {
   "cell_type": "markdown",
   "metadata": {},
   "source": [
    "***TRANSFORMANDO PARA JSON***"
   ]
  },
  {
   "cell_type": "code",
   "execution_count": 115,
   "metadata": {},
   "outputs": [
    {
     "name": "stderr",
     "output_type": "stream",
     "text": [
      "                                                                                \r"
     ]
    }
   ],
   "source": [
    "data_product_amazon.write.json(path=\"../data_processed/data_json\",mode='overwrite')"
   ]
  },
  {
   "cell_type": "code",
   "execution_count": null,
   "metadata": {},
   "outputs": [],
   "source": []
  }
 ],
 "metadata": {
  "kernelspec": {
   "display_name": "venv",
   "language": "python",
   "name": "python3"
  },
  "language_info": {
   "codemirror_mode": {
    "name": "ipython",
    "version": 3
   },
   "file_extension": ".py",
   "mimetype": "text/x-python",
   "name": "python",
   "nbconvert_exporter": "python",
   "pygments_lexer": "ipython3",
   "version": "3.12.2"
  }
 },
 "nbformat": 4,
 "nbformat_minor": 2
}

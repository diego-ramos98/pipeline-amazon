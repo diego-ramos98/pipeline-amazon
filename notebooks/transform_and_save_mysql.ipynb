{
 "cells": [
  {
   "cell_type": "markdown",
   "metadata": {},
   "source": [
    "***CONECTANDO NO MYSQL***"
   ]
  },
  {
   "cell_type": "code",
   "execution_count": 1,
   "metadata": {},
   "outputs": [],
   "source": [
    "import mysql.connector"
   ]
  },
  {
   "cell_type": "code",
   "execution_count": 2,
   "metadata": {},
   "outputs": [
    {
     "name": "stdout",
     "output_type": "stream",
     "text": [
      "<mysql.connector.connection_cext.CMySQLConnection object at 0x7c85381ff200>\n"
     ]
    }
   ],
   "source": [
    "cnx = mysql.connector.connect(\n",
    "    host = \"localhost\",\n",
    "    user = \"root\",\n",
    "    password = \"123456\"\n",
    ")\n",
    "\n",
    "print(cnx)"
   ]
  },
  {
   "cell_type": "markdown",
   "metadata": {},
   "source": [
    "***CONECTANDO AO SPARK*** "
   ]
  },
  {
   "cell_type": "code",
   "execution_count": 3,
   "metadata": {},
   "outputs": [],
   "source": [
    "import os\n",
    "from pyspark.sql import SparkSession"
   ]
  },
  {
   "cell_type": "code",
   "execution_count": 4,
   "metadata": {},
   "outputs": [],
   "source": [
    "os.environ[\"SPARK_HOME\"] = \"/opt/spark/spark-3.5.5-bin-hadoop3\""
   ]
  },
  {
   "cell_type": "code",
   "execution_count": 5,
   "metadata": {},
   "outputs": [],
   "source": [
    "import findspark"
   ]
  },
  {
   "cell_type": "code",
   "execution_count": 6,
   "metadata": {},
   "outputs": [],
   "source": [
    "findspark.init()"
   ]
  },
  {
   "cell_type": "code",
   "execution_count": 7,
   "metadata": {},
   "outputs": [
    {
     "name": "stderr",
     "output_type": "stream",
     "text": [
      "25/04/10 21:56:00 WARN Utils: Your hostname, dg-IdeaPad-3-15ALC6 resolves to a loopback address: 127.0.1.1; using 192.168.0.19 instead (on interface wlp1s0)\n",
      "25/04/10 21:56:00 WARN Utils: Set SPARK_LOCAL_IP if you need to bind to another address\n",
      "Setting default log level to \"WARN\".\n",
      "To adjust logging level use sc.setLogLevel(newLevel). For SparkR, use setLogLevel(newLevel).\n",
      "25/04/10 21:56:04 WARN NativeCodeLoader: Unable to load native-hadoop library for your platform... using builtin-java classes where applicable\n"
     ]
    }
   ],
   "source": [
    "spark = SparkSession.builder.master('local[*]').getOrCreate()"
   ]
  },
  {
   "cell_type": "code",
   "execution_count": 8,
   "metadata": {},
   "outputs": [
    {
     "data": {
      "text/html": [
       "\n",
       "            <div>\n",
       "                <p><b>SparkSession - in-memory</b></p>\n",
       "                \n",
       "        <div>\n",
       "            <p><b>SparkContext</b></p>\n",
       "\n",
       "            <p><a href=\"http://192.168.0.19:4040\">Spark UI</a></p>\n",
       "\n",
       "            <dl>\n",
       "              <dt>Version</dt>\n",
       "                <dd><code>v3.5.5</code></dd>\n",
       "              <dt>Master</dt>\n",
       "                <dd><code>local[*]</code></dd>\n",
       "              <dt>AppName</dt>\n",
       "                <dd><code>pyspark-shell</code></dd>\n",
       "            </dl>\n",
       "        </div>\n",
       "        \n",
       "            </div>\n",
       "        "
      ],
      "text/plain": [
       "<pyspark.sql.session.SparkSession at 0x7c8527fd3a10>"
      ]
     },
     "execution_count": 8,
     "metadata": {},
     "output_type": "execute_result"
    }
   ],
   "source": [
    "spark"
   ]
  },
  {
   "cell_type": "code",
   "execution_count": null,
   "metadata": {},
   "outputs": [],
   "source": [
    "spark."
   ]
  },
  {
   "cell_type": "markdown",
   "metadata": {},
   "source": [
    "***LENDO OS DADOS***"
   ]
  },
  {
   "cell_type": "code",
   "execution_count": 23,
   "metadata": {},
   "outputs": [],
   "source": [
    "path_csv = \"../data_raw/csv/\""
   ]
  },
  {
   "cell_type": "code",
   "execution_count": 88,
   "metadata": {},
   "outputs": [],
   "source": [
    "data_csv = spark.read.csv(path_csv)"
   ]
  },
  {
   "cell_type": "code",
   "execution_count": 29,
   "metadata": {},
   "outputs": [
    {
     "data": {
      "text/plain": [
       "1344513"
      ]
     },
     "execution_count": 29,
     "metadata": {},
     "output_type": "execute_result"
    }
   ],
   "source": [
    "data_csv.count()"
   ]
  },
  {
   "cell_type": "markdown",
   "metadata": {},
   "source": [
    "***CRIANDO VIEW PARA UTILIZAR O SPARK SQL***"
   ]
  },
  {
   "cell_type": "code",
   "execution_count": 105,
   "metadata": {},
   "outputs": [],
   "source": [
    "data_csv.createOrReplaceTempView(\"produtos\")"
   ]
  },
  {
   "cell_type": "code",
   "execution_count": 91,
   "metadata": {},
   "outputs": [
    {
     "name": "stdout",
     "output_type": "stream",
     "text": [
      "+-------------------------------------------------------------------------------------------------+---+---+------+---+---------------+\n",
      "|_c0                                                                                              |_c1|_c2|_c3   |_c4|_c5            |\n",
      "+-------------------------------------------------------------------------------------------------+---+---+------+---+---------------+\n",
      "|Adaptador Universal Viagem + Mala Armor - Gshield                                                |0.0|0  |564.0 |0.0|Malas de Viagem|\n",
      "|Mala De Viagem Grande Bolsa De Mao Azul Transversal Resistente Poliéster Esportiva Tiracolo Yins |3.0|1  |128.03|0.0|Malas de Viagem|\n",
      "|Mala de Viagem de Bordo Impermeável Até 15kg Flexível (Preto)                                    |4.0|1  |159.99|0.0|Malas de Viagem|\n",
      "|Bagagem infantil para meninos, mala de rodas giratórias de dinossauro fofo para crianças pequenas|4.6|102|319.99|0.0|Malas de Viagem|\n",
      "|MALA DE BORDO PEQUENA PARA VIAGEM EM ABS YINS YS21110 CADEADO INTEGRADO RODAS DUPLAS CHAMPAGNE   |0.0|0  |299.9 |0.0|Malas de Viagem|\n",
      "+-------------------------------------------------------------------------------------------------+---+---+------+---+---------------+\n",
      "only showing top 5 rows\n",
      "\n"
     ]
    }
   ],
   "source": [
    "spark.sql(\"SELECT  * FROM produtos\").show(5,False)"
   ]
  },
  {
   "cell_type": "markdown",
   "metadata": {},
   "source": [
    "***MUDANDO NOMES DAS COLUNAS***"
   ]
  },
  {
   "cell_type": "code",
   "execution_count": 92,
   "metadata": {},
   "outputs": [],
   "source": [
    "from pyspark.sql  import functions as f"
   ]
  },
  {
   "cell_type": "code",
   "execution_count": 101,
   "metadata": {},
   "outputs": [],
   "source": [
    "produtos_col_names = [\"TITULO\",\"NOTA\",\"NUMERO_AVALIACOES\",\"PRECO\",\"LISTA_PREÇO\",\"CATEGORIA\"]"
   ]
  },
  {
   "cell_type": "code",
   "execution_count": 102,
   "metadata": {},
   "outputs": [],
   "source": [
    "for index,colNames in enumerate(produtos_col_names):\n",
    "    data_csv = data_csv.withColumnRenamed(f\"_c{index}\",colNames)"
   ]
  },
  {
   "cell_type": "code",
   "execution_count": 103,
   "metadata": {},
   "outputs": [
    {
     "data": {
      "text/plain": [
       "['TITULO', 'NOTA', 'NUMERO_AVALIACOES', 'PRECO', 'LISTA_PREÇO', 'CATEGORIA']"
      ]
     },
     "execution_count": 103,
     "metadata": {},
     "output_type": "execute_result"
    }
   ],
   "source": [
    "data_csv.columns"
   ]
  },
  {
   "cell_type": "code",
   "execution_count": 106,
   "metadata": {},
   "outputs": [
    {
     "name": "stdout",
     "output_type": "stream",
     "text": [
      "+----------------------------------------------------------------------------------------------------------------------------------------------------------------------------------+----+-----------------+------+-----------+---------------+\n",
      "|TITULO                                                                                                                                                                            |NOTA|NUMERO_AVALIACOES|PRECO |LISTA_PREÇO|CATEGORIA      |\n",
      "+----------------------------------------------------------------------------------------------------------------------------------------------------------------------------------+----+-----------------+------+-----------+---------------+\n",
      "|Adaptador Universal Viagem + Mala Armor - Gshield                                                                                                                                 |0.0 |0                |564.0 |0.0        |Malas de Viagem|\n",
      "|Mala De Viagem Grande Bolsa De Mao Azul Transversal Resistente Poliéster Esportiva Tiracolo Yins                                                                                  |3.0 |1                |128.03|0.0        |Malas de Viagem|\n",
      "|Mala de Viagem de Bordo Impermeável Até 15kg Flexível (Preto)                                                                                                                     |4.0 |1                |159.99|0.0        |Malas de Viagem|\n",
      "|Bagagem infantil para meninos, mala de rodas giratórias de dinossauro fofo para crianças pequenas                                                                                 |4.6 |102              |319.99|0.0        |Malas de Viagem|\n",
      "|MALA DE BORDO PEQUENA PARA VIAGEM EM ABS YINS YS21110 CADEADO INTEGRADO RODAS DUPLAS CHAMPAGNE                                                                                    |0.0 |0                |299.9 |0.0        |Malas de Viagem|\n",
      "|Kit Mala De Viagem Pequena PP Expansivas 360 E Frasqueira P Cor:Verde turquesa                                                                                                    |0.0 |0                |399.9 |0.0        |Malas de Viagem|\n",
      "|Organizadores De Bagagem Para Viagem Protetor De Bagagem Capa De Mala De Viagem Capa De Mala De Viagem Protetor De Bagagem Capa De Carrinho Protetor De Mala Saco De Terno De Pano|0.0 |0                |52.54 |0.0        |Malas de Viagem|\n",
      "|Mala Para Viagem Grande 35 KG Pequim Cinza Chumbo                                                                                                                                 |0.0 |0                |379.99|0.0        |Malas de Viagem|\n",
      "|Mala Grande Viagem Rodinhas Bolsa Mala Bagagem Alça Mão Preta Sacola Masculina Feminina Poliéster Yins                                                                            |3.7 |6                |348.32|0.0        |Malas de Viagem|\n",
      "|Mala de Viagem Bordo em Abs 360° Expansiva e Frasqueira M Cor:Vermelho                                                                                                            |0.0 |0                |399.9 |0.0        |Malas de Viagem|\n",
      "|Mala de Viagem De Bordo Pequena Maldivas Acqua                                                                                                                                    |4.0 |1                |503.0 |0.0        |Malas de Viagem|\n",
      "|Mala De Bordo Pequena Para Viagem Policarbonato Yins 21105 Cadeado Integrado Rodas Duplas Azul Rosa                                                                               |3.6 |2                |449.9 |0.0        |Malas de Viagem|\n",
      "|Capa de bagagem mais espessa Protetor de capa de mala elástica para malas de 18 a 32 polegadas Acessórios de viagem para malas (Viagem, S (mala de 18 a 21 polegadas))            |0.0 |0                |80.43 |0.0        |Malas de Viagem|\n",
      "|Mala Pequena Viagem Avião Rodinhas Bolsa Mala Bagagem Masculina Feminina Preta Sacola Poliéster Yins                                                                              |4.3 |20               |219.63|0.0        |Malas de Viagem|\n",
      "|Mala De Viagem Trip abs Para Bordo Rodinhas 360 c/Cadeado M (Preto)                                                                                                               |0.0 |0                |399.9 |0.0        |Malas de Viagem|\n",
      "|Mala de Mão Bolsa Transversal de Lona Lenna's A014                                                                                                                                |4.4 |88               |249.0 |0.0        |Malas de Viagem|\n",
      "|Conjunto Malas de Viagem 3 Peças Com Frasqueira Bordo Embarque Avião Rígida 4 Rodinhas Dupla 360° Abs Santino Cor:Azul;Tamanho:P M G                                              |5.0 |1                |1389.0|0.0        |Malas de Viagem|\n",
      "|Mala de Bordo em ABS Com 4 Rodas 360 - Roncalli Alemanha Cor:Preto                                                                                                                |4.4 |168              |0.0   |0.0        |Malas de Viagem|\n",
      "|Conjunto de Malas de Viagens Para Bordo - Fibra Rígida 4xRodas 360°                                                                                                               |5.0 |1                |499.0 |0.0        |Malas de Viagem|\n",
      "|Mala de Bordo Viagem Pequena 19\" Polo King Luxcel MF10226PK Cor:Marrom                                                                                                            |0.0 |0                |439.9 |0.0        |Malas de Viagem|\n",
      "+----------------------------------------------------------------------------------------------------------------------------------------------------------------------------------+----+-----------------+------+-----------+---------------+\n",
      "only showing top 20 rows\n",
      "\n"
     ]
    }
   ],
   "source": [
    "spark.sql(\"SELECT * FROM produtos\").show(20,False)"
   ]
  },
  {
   "cell_type": "markdown",
   "metadata": {},
   "source": [
    "***VERIFICANDO O CONTEUDO DAS COLUNAS***"
   ]
  },
  {
   "cell_type": "code",
   "execution_count": 107,
   "metadata": {},
   "outputs": [
    {
     "name": "stdout",
     "output_type": "stream",
     "text": [
      "+-----------------------------------------+\n",
      "|CATEGORIA                                |\n",
      "+-----------------------------------------+\n",
      "|Acessórios de Ferramentas Elétricas      |\n",
      "|Acessórios e Artigos Eletrônicos         |\n",
      "|Acessórios e Peças para Motos            |\n",
      "|Acessórios para Celular                  |\n",
      "|Acessórios para Computador               |\n",
      "|Acessórios para Gatos                    |\n",
      "|Acessórios para Home Theater             |\n",
      "|Acessórios para Viagem                   |\n",
      "|Achados em Moda                          |\n",
      "|Alimentação de Bebês e Crianças Pequenas |\n",
      "|Alimentos e Bebidas                      |\n",
      "|Apps e Jogos                             |\n",
      "|Ar e Ventilação                          |\n",
      "|Assadeiras, Fôrmas e Recipientes de Forno|\n",
      "|Audiolivros Audible                      |\n",
      "|Automotivo                               |\n",
      "|Banho, Higiene e Troca de Fraldas do Bebê|\n",
      "|Bebidas Alcoólicas                       |\n",
      "|Bebês                                    |\n",
      "|Beleza                                   |\n",
      "+-----------------------------------------+\n",
      "only showing top 20 rows\n",
      "\n"
     ]
    },
    {
     "name": "stderr",
     "output_type": "stream",
     "text": [
      "                                                                                \r"
     ]
    }
   ],
   "source": [
    "spark.sql(\"SELECT DISTINCT CATEGORIA FROM produtos ORDER BY CATEGORIA\").show(truncate = False)"
   ]
  },
  {
   "cell_type": "markdown",
   "metadata": {},
   "source": [
    "***SEPARANDO POR CATEGORIA***"
   ]
  },
  {
   "cell_type": "code",
   "execution_count": 108,
   "metadata": {},
   "outputs": [],
   "source": [
    "data_app_and_jogos = spark.sql(\"SELECT * FROM produtos WHERE CATEGORIA = 'Apps e Jogos' \")"
   ]
  },
  {
   "cell_type": "code",
   "execution_count": 116,
   "metadata": {},
   "outputs": [
    {
     "data": {
      "text/plain": [
       "15913"
      ]
     },
     "execution_count": 116,
     "metadata": {},
     "output_type": "execute_result"
    }
   ],
   "source": [
    "data_app_and_jogos.count()"
   ]
  },
  {
   "cell_type": "code",
   "execution_count": 110,
   "metadata": {},
   "outputs": [],
   "source": [
    "data_app_and_jogos.createOrReplaceTempView(\"view_produtos_jogos_and_apps\")"
   ]
  },
  {
   "cell_type": "code",
   "execution_count": 111,
   "metadata": {},
   "outputs": [
    {
     "name": "stdout",
     "output_type": "stream",
     "text": [
      "+---------------------------------------------------------------------------------------------------------------------------------+----+-----------------+------+-----------+------------+\n",
      "|TITULO                                                                                                                           |NOTA|NUMERO_AVALIACOES|PRECO |LISTA_PREÇO|CATEGORIA   |\n",
      "+---------------------------------------------------------------------------------------------------------------------------------+----+-----------------+------+-----------+------------+\n",
      "|Snake Run                                                                                                                        |4.3 |314              |0.0   |0.0        |Apps e Jogos|\n",
      "|Claro tv+                                                                                                                        |2.5 |222              |0.0   |0.0        |Apps e Jogos|\n",
      "|NBA on Fire TV                                                                                                                   |4.5 |53862            |0.0   |0.0        |Apps e Jogos|\n",
      "|OneFootball TV                                                                                                                   |3.7 |107              |0.0   |0.0        |Apps e Jogos|\n",
      "|Rakuten Viki - Free TV Drama & Movies                                                                                            |4.4 |40893            |0.0   |0.0        |Apps e Jogos|\n",
      "|Garden Balls - Pin Pull Games                                                                                                    |3.4 |33               |0.0   |0.0        |Apps e Jogos|\n",
      "|Videos For YouTube                                                                                                               |4.3 |13022            |0.0   |0.0        |Apps e Jogos|\n",
      "|Minecraft – Pocket Edition                                                                                                       |4.2 |137007           |20.0  |0.0        |Apps e Jogos|\n",
      "|Volume Control for Lite | Control TV Volume from Stick's Remote without IR                                                       |4.2 |723              |7.99  |0.0        |Apps e Jogos|\n",
      "|Stumble Guys                                                                                                                     |4.7 |247              |0.0   |0.0        |Apps e Jogos|\n",
      "|Claro video                                                                                                                      |2.6 |215              |0.0   |0.0        |Apps e Jogos|\n",
      "|Snake.io Fun Online Games                                                                                                        |4.2 |2673             |0.0   |0.0        |Apps e Jogos|\n",
      "|Oi Play                                                                                                                          |2.3 |103              |0.0   |0.0        |Apps e Jogos|\n",
      "|Stack Race Runner 3D: Run and stack blocks to win the race, Free games for kids, Free racing Games for Tablets, Phone and Fire Tv|4.5 |762              |0.0   |0.0        |Apps e Jogos|\n",
      "|Roblox                                                                                                                           |4.1 |193455           |0.0   |0.0        |Apps e Jogos|\n",
      "|PK XD : Building And Crafting                                                                                                    |3.6 |88               |96.43 |0.0        |Apps e Jogos|\n",
      "|Pou                                                                                                                              |4.1 |13549            |0.0   |0.0        |Apps e Jogos|\n",
      "|Netflix                                                                                                                          |4.7 |438759           |0.0   |0.0        |Apps e Jogos|\n",
      "|Subway Surfers                                                                                                                   |4.0 |97971            |0.0   |0.0        |Apps e Jogos|\n",
      "|PK XD : Block Craft Game                                                                                                         |3.8 |34               |100.79|0.0        |Apps e Jogos|\n",
      "+---------------------------------------------------------------------------------------------------------------------------------+----+-----------------+------+-----------+------------+\n",
      "only showing top 20 rows\n",
      "\n"
     ]
    }
   ],
   "source": [
    "spark.sql(\"SELECT * FROM view_produtos_jogos_and_apps\").show(truncate = False)"
   ]
  },
  {
   "cell_type": "code",
   "execution_count": 117,
   "metadata": {},
   "outputs": [
    {
     "name": "stdout",
     "output_type": "stream",
     "text": [
      "+--------------------+----+-----------------+------+-----------+------------+\n",
      "|              TITULO|NOTA|NUMERO_AVALIACOES| PRECO|LISTA_PREÇO|   CATEGORIA|\n",
      "+--------------------+----+-----------------+------+-----------+------------+\n",
      "|Minecraft – Pocke...| 4.2|           137007|  20.0|        0.0|Apps e Jogos|\n",
      "|Volume Control fo...| 4.2|              723|  7.99|        0.0|Apps e Jogos|\n",
      "|PK XD : Building ...| 3.6|               88| 96.43|        0.0|Apps e Jogos|\n",
      "|PK XD : Block Cra...| 3.8|               34|100.79|        0.0|Apps e Jogos|\n",
      "|[3D Platformer] S...| 3.9|               32|104.33|        0.0|Apps e Jogos|\n",
      "|   Color Dancing Hop| 3.9|               44| 19.52|        0.0|Apps e Jogos|\n",
      "|     Baby Panda Care| 3.7|              110|  42.1|        0.0|Apps e Jogos|\n",
      "|Frozen ASMR: Hone...| 3.0|               34| 40.26|        0.0|Apps e Jogos|\n",
      "|  School Party Craft| 3.8|              203| 15.35|        0.0|Apps e Jogos|\n",
      "|    Scary Teacher 3D| 3.5|             7726|  4.02|        0.0|Apps e Jogos|\n",
      "|Five Nights at Fr...| 3.8|            11871|  6.81|        0.0|Apps e Jogos|\n",
      "|Sandwich Stacker:...| 2.9|              106| 26.44|        0.0|Apps e Jogos|\n",
      "|ladrão de gângste...| 1.7|                3|  24.0|        0.0|Apps e Jogos|\n",
      "|Fashion Blitz: St...| 3.5|               17| 41.13|        0.0|Apps e Jogos|\n",
      "|Magic Piano Tiles...| 4.6|                6| 24.49|        0.0|Apps e Jogos|\n",
      "|Sweet Story: Dess...| 3.1|               43| 45.47|        0.0|Apps e Jogos|\n",
      "|Craft Fun Sword Tree| 3.8|               49|101.35|        0.0|Apps e Jogos|\n",
      "|Sonic The Hedgehog 2| 4.4|             7121|  14.9|        0.0|Apps e Jogos|\n",
      "|School Party Craf...| 3.8|               36| 36.38|        0.0|Apps e Jogos|\n",
      "|Action Fight: Dra...| 3.0|               21| 46.18|        0.0|Apps e Jogos|\n",
      "+--------------------+----+-----------------+------+-----------+------------+\n",
      "only showing top 20 rows\n",
      "\n"
     ]
    }
   ],
   "source": [
    "spark.sql(\"SELECT * FROM view_produtos_jogos_and_apps WHERE PRECO > 0 \").show()"
   ]
  },
  {
   "cell_type": "code",
   "execution_count": 118,
   "metadata": {},
   "outputs": [
    {
     "name": "stderr",
     "output_type": "stream",
     "text": [
      "                                                                                \r"
     ]
    },
    {
     "data": {
      "text/plain": [
       "1074"
      ]
     },
     "execution_count": 118,
     "metadata": {},
     "output_type": "execute_result"
    }
   ],
   "source": [
    "spark.sql(\"SELECT * FROM view_produtos_jogos_and_apps WHERE PRECO > 0 \").count()"
   ]
  },
  {
   "cell_type": "code",
   "execution_count": null,
   "metadata": {},
   "outputs": [],
   "source": []
  }
 ],
 "metadata": {
  "kernelspec": {
   "display_name": "venv",
   "language": "python",
   "name": "python3"
  },
  "language_info": {
   "codemirror_mode": {
    "name": "ipython",
    "version": 3
   },
   "file_extension": ".py",
   "mimetype": "text/x-python",
   "name": "python",
   "nbconvert_exporter": "python",
   "pygments_lexer": "ipython3",
   "version": "3.12.2"
  }
 },
 "nbformat": 4,
 "nbformat_minor": 2
}
